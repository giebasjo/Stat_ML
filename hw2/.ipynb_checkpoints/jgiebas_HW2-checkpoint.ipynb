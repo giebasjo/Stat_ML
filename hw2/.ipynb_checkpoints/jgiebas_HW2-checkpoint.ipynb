{
 "cells": [
  {
   "cell_type": "markdown",
   "metadata": {},
   "source": [
    "# 46-926, Statistical Machine Learning 1: Homework 2\n",
    "\n",
    "*Author*  : Jordan Giebas <br>\n",
    "*Due Date*: January 28th, 2018 "
   ]
  },
  {
   "cell_type": "markdown",
   "metadata": {},
   "source": [
    "## Question 1"
   ]
  },
  {
   "cell_type": "markdown",
   "metadata": {},
   "source": [
    "### Part (a)\n",
    "Plot the loss function given by,\n",
    "\n",
    "$$ \\mathcal{L}(Y,f(X)) = b\\big(e^{a(Y-f(X)} - a(Y-f(X)) - 1\\big) $$\n",
    "\n",
    "for $z = Y-f(X)$, $z \\in [-2,2]$, and where $(a,b) = (1.1,2)$."
   ]
  },
  {
   "cell_type": "code",
   "execution_count": 5,
   "metadata": {},
   "outputs": [
    {
     "data": {
      "text/plain": [
       "<matplotlib.collections.PathCollection at 0x108adc208>"
      ]
     },
     "execution_count": 5,
     "metadata": {},
     "output_type": "execute_result"
    },
    {
     "data": {
      "image/png": "[encoded data removed]",
      "text/plain": [
       "<matplotlib.figure.Figure at 0x10c80a6d8>"
      ]
     },
     "metadata": {},
     "output_type": "display_data"
    }
   ],
   "source": [
    "import numpy as np\n",
    "import matplotlib.pyplot as plt\n",
    "%matplotlib inline\n",
    "\n",
    "# Define the loss function\n",
    "def loss_f(z):\n",
    "    \n",
    "    return ( 2*(np.exp(1.1*z) - 1.1*z - 1) )\n",
    "\n",
    "# Vectorize the function to perform element wise\n",
    "v_loss_f = np.vectorize(loss_f) \n",
    "\n",
    "z_axis = np.linspace(-2, 2)\n",
    "y_axis = v_loss_f(z_axis)\n",
    "\n",
    "\n",
    "plt.xlabel(\"z = Y - f(X)\")\n",
    "plt.ylabel(\"Loss(z)\")\n",
    "plt.title(\"Loss(z) vs. z = Y-f(X)\")\n",
    "plt.scatter(z_axis,y_axis)"
   ]
  },
  {
   "cell_type": "markdown",
   "metadata": {},
   "source": [
    "**Description**: <br>\n",
    "The loss function is interesting. It is sensible that when $z$ is close to zero, that the loss function is too. The interesting observation is the extremeties. When your prediction $f(X)$ highly underestimating $Y$, the loss function is much greater than when your prediction $f(X)$ is overestimating $Y$. <br>\n",
    "**Usage**: <br>\n",
    "When you want to punish the algorithm for underestimating the true value severly, but only marginally punish the algo for overestimating, this is a very good likelihood function to use."
   ]
  },
  {
   "cell_type": "markdown",
   "metadata": {},
   "source": [
    "### Part (b)\n",
    "Determine the f(X) that will minimize the expected loss, using the loss function provided above. <br>\n",
    "\n",
    "Following the notes from class, we first use iterated conditioning and condition on a particular value of $X$. Then, optimize by solving the derivative with respect to $f(x)$ equal to zero. <br>\n",
    "\n",
    "$$ \\mathbb{E}(\\mathcal{L}(Y,f(X))) = \\mathbb{E}\\big[\\mathbb{E}\\big[\\mathcal{L}(Y,f(X))|X=x\\big]\\big]$$\n",
    "\n",
    "Focusing only on the inside conditional expectation and plugging in $\\mathcal{L}(Y,f(X))$,\n",
    "\n",
    "$$ \\mathbb{E}\\big[b\\big(e^{a(Y-f(X)} - a(Y-f(X)) - 1\\big)|X=x\\big] $$\n",
    "$$ b\\mathbb{E}\\big[\\big(e^{a(Y-f(X)} - a(Y-f(X)) - 1\\big)|X=x\\big] = b\\big(-a\\mathbb{E}(Y|X=x) - 1 + \\mathbb{E}(e^{a(Y-f(X))}|X=x) + a\\mathbb{E}(f(X)|X=x)\\big) $$\n",
    "\n",
    "Luckily the exponential function is a homomorphism and we can separate the arguments then condition on $e^{f(X)}|X=x$. All together we see,\n",
    "\n",
    "$$ b\\big(-a\\mathbb{E}(Y|X=x) - 1 + e^{-af(x)}\\mathbb{E}(e^{aY}|X=x) + af(x)\\big) $$\n",
    "\n",
    "Differentiating the inside with respect to $f(X)$, setting equal to zero, and solving, yields the following result for $f(x)$:\n",
    "\n",
    "$$ f(x) = \\frac{lg\\big(\\mathbb{E}(e^{aY}|X=x)\\big)}{a} $$\n",
    "\n",
    "### Part(c)\n",
    "If the conditional distribution $Y|X=x ~ N(\\beta x, \\sigma^{2})$, then what is the form of the optimal estimator $f(x)$? <br>\n",
    "\n",
    "Since we know the conditional distribtuion, we can evaluate the conditional expectation in the final result of **Part(b)**. We recognize that this is the moment generating function for $Y$, evaluated at $t=a$. Hence,\n",
    "\n",
    "$$ f(x) = \\frac{lg\\big(e^{a\\beta x + \\frac{1}{2}a\\sigma^2)}\\big)}{a} = \\beta x + \\frac{a\\sigma^2}{2} $$"
   ]
  },
  {
   "cell_type": "markdown",
   "metadata": {},
   "source": [
    "### Part(d)\n",
    "For part(d), I copy and paste the code from `asymm_loss.py` into the following cell and run, for ease in having everything local in the jupyter notebook (although it is possible to call the function in a python file from within this jupyter notebook."
   ]
  },
  {
   "cell_type": "code",
   "execution_count": 11,
   "metadata": {},
   "outputs": [
    {
     "name": "stdout",
     "output_type": "stream",
     "text": [
      "Average loss of the conditional expectation: 13.27\n",
      "Average loss of your method: 3.98\n"
     ]
    }
   ],
   "source": [
    "from scipy.stats import norm\n",
    "import numpy as np\n",
    "\n",
    "#Set some parameters\n",
    "beta = 0.5\n",
    "b = 2\n",
    "sigma = 2\n",
    "a = 1\n",
    "\n",
    "#Define the loss function, where z = y - yhat\n",
    "def loss(z):\n",
    "    return b*(np.exp(a*z)-a*z-1)\n",
    "\n",
    "#Estimation functions\n",
    "#Estimation using the conditional expectation of Y|X\n",
    "def f_condexp(x):\n",
    "    return beta*x\n",
    "\n",
    "# TODO: Put your function in here.  You can reference a,b,sigma, and it will just pull them from\n",
    "# the outside namespace\n",
    "def f_yours(x):\n",
    "    return beta*x + a*(sigma**2)/2.0\n",
    "\n",
    "#Simulation to see how you do\n",
    "reps = 1000\n",
    "\n",
    "#Just generate the X variables normally.  We don't really care\n",
    "x = norm.rvs(size=reps, loc=0, scale=1)\n",
    "\n",
    "#Generate the Y variables from our normal model\n",
    "y = norm.rvs(size=reps, loc=x*beta, scale=sigma)\n",
    "\n",
    "#Calculate the fitted values for each method\n",
    "yhat_condexp = np.apply_along_axis(f_condexp, 0, x)\n",
    "yhat_yours = np.apply_along_axis(f_yours, 0, x)\n",
    "\n",
    "#Compute the losses\n",
    "condexp_losses = np.apply_along_axis(loss, 0, y-yhat_condexp)\n",
    "your_losses = np.apply_along_axis(loss, 0, y-yhat_yours)\n",
    "\n",
    "print(\"Average loss of the conditional expectation:\",\n",
    "      round(np.mean(condexp_losses),2))\n",
    "\n",
    "print(\"Average loss of your method:\", \n",
    "      round(np.mean(your_losses),2))"
   ]
  },
  {
   "cell_type": "markdown",
   "metadata": {},
   "source": [
    "The average loss of the estimator derived in Part(c) is substantially lower than the average loss of the conditional expectation. <br>In terms of bias-variance tradeoff, we are introducing some bias but this is marginal relative to the amount of variance reduction we receive. Hence, we see a lower expected loss."
   ]
  },
  {
   "cell_type": "markdown",
   "metadata": {},
   "source": [
    "## Question 2"
   ]
  },
  {
   "cell_type": "markdown",
   "metadata": {},
   "source": [
    "### Part (a)\n",
    "\n",
    "The ridge regression coefficients are given by (pardon my leaving out the hat on $\\beta$, it doesn't look right when I compile the latex in the jupyter notebook),\n",
    "\n",
    "$$ {\\beta}^{ridge} = \\underset{\\beta \\in \\mathbb{R}^{p}}{\\operatorname{arg\\,max}} ||y-X\\beta||_2^2 + \\lambda||\\beta||_2^2$$\n",
    "\n",
    "Where $y \\in \\mathbb{R}^n$ is our response vector, $X \\in \\mathbb{R}^{nxp}$ is our prediction matrix, and $\\beta \\in \\mathbb{R}^p$ is our coefficient vector. \n",
    "\n",
    "We follow the structure of the problem, we have block matrices and vectors given as $\\widetilde{y} = \\bigg[ \\begin{smallmatrix} y\\\\0 \\end{smallmatrix} \\bigg] \\in \\mathbb{R}^{n+p}$, $\\widetilde{X} = \\bigg[ \\begin{smallmatrix} X\\\\ \\sqrt\\lambda I \\end{smallmatrix}\\bigg] \\in \\mathbb{R}^{(n+p)xp}$ where $I \\in \\mathbb{R}^{pxp}$ is the identity matrix. <br>\n",
    "\n",
    "We know from basic linear regression (OLS) that the coefficients of regressing an observation vector onto the predicition matrix is given by \n",
    "\n",
    "$$ \\beta^{OLS} = \\big(X^{T}X\\big)^{-1}X^{T}y $$\n",
    "\n",
    "Regressing our block response vector on our block prediction matrix yields the following,\n",
    "\n",
    "$$ \\beta = \\big(\\widetilde{X}^{T}\\widetilde{X}\\big)^{-1}\\widetilde{X}^{T}\\widetilde{y} $$\n",
    "\n",
    "Performing a little matrix multiplication simplifies the result. Consider the following,\n",
    "\n",
    "$$ \\widetilde{X}^{T}\\widetilde{X} = \\bigg[\\begin{smallmatrix} X\\\\ \\sqrt\\lambda I \\end{smallmatrix}\\bigg]^{T}\\bigg[ \\begin{smallmatrix} X\\\\ \\sqrt\\lambda I \\end{smallmatrix}\\bigg] = \\bigg[ \\begin{smallmatrix} X^{T}&\\sqrt\\lambda I \\end{smallmatrix}\\bigg] \\bigg[ \\begin{smallmatrix} X\\\\ \\sqrt\\lambda I \\end{smallmatrix}\\bigg] = X^{T}X - \\lambda I $$\n",
    "\n",
    "Also, \n",
    "\n",
    "$$ \\widetilde{X}^{T} \\widetilde{y} = \\bigg[ \\begin{smallmatrix} X^{T}&\\sqrt\\lambda I \\end{smallmatrix}\\bigg] \\bigg[ \\begin{smallmatrix} y\\\\0 \\end{smallmatrix} \\bigg] = X^{T}X - \\lambda I \\vec{0} = X^{T}X $$\n",
    "\n",
    "Hence, the beta from regressing the block response vector on the block predicition vector takes the form\n",
    "\n",
    "$$ \\beta = (X^{T}X + \\lambda I)^{-1}X^{T}y $$\n",
    "\n",
    "which as we saw, is precisely the solution to the ridge regression problem stated above. \n"
   ]
  },
  {
   "cell_type": "markdown",
   "metadata": {},
   "source": [
    "### Part (b)\n",
    "\n",
    "We assume that $\\lambda > 0$ so that $\\sqrt \\lambda$ is well defined. We would like to prove that $\\widetilde{X}$ must have full column-rank. It suffices to show that each of the columns of $\\widetilde{X}$ are linearly independent. Firstly, let's write out the entries of $\\widetilde{X}$.\n",
    "\n",
    "\n",
    "$$ \\widetilde{X} = \\begin{bmatrix} \n",
    "    x_{11} & x_{12} & \\dots & x_{1p}\\\\\n",
    "    x_{21} & x_{22} & \\dots & x_{2p}\\\\\n",
    "    \\vdots & \\vdots & \\dots & \\vdots\\\\\n",
    "    x_{n1} & x_{n2} & \\dots & x_{np}\\\\\n",
    "    \\sqrt\\lambda & 0 & \\dots & 0 \\\\\n",
    "    0 & \\sqrt\\lambda & \\dots & 0 \\\\\n",
    "    \\vdots & \\vdots & \\vdots & \\vdots\\\\\n",
    "    0 & 0 & \\dots & \\sqrt\\lambda\n",
    "    \\end{bmatrix} $$\n",
    "    \n",
    "Now define the collection of vectors $\\{\\vec{v}_i\\}_{i=1}^{p}$ as the columns of the $\\widetilde{X}$, where each $\\vec{v}_i \\in \\mathbb{R}^{n+p}$. <br>\n",
    "\n",
    "We would like to show that this collection of vectors is linearly independent. Hence, we must show that for any linear combination equal to zero, $\\sum_{i=1}^{p} \\alpha_{i}\\vec{v}_i = \\vec{0}$, that this implies $\\alpha_{i} = \\vec{0}, \\forall i$. <br>\n",
    "\n",
    "Consider the following linear combination set equal to zero,\n",
    "\n",
    "$$\\sum_{i=1}^{p} \\alpha_{i}\\vec{v}_i = \\alpha_{1}\\begin{bmatrix} x_{11} \\\\ \n",
    "                                                                 \\vdots \\\\\n",
    "                                                                 x_{n1} \\\\\n",
    "                                                                 \\vdots \\\\\n",
    "                                                                 \\sqrt\\lambda \\\\\n",
    "                                                                 \\vdots \\\\\n",
    "                                                                 0 \\\\\n",
    "                                                                 0 \\end{bmatrix} + \n",
    "                                       \\alpha_{2}\\begin{bmatrix} x_{12} \\\\ \n",
    "                                                                 \\vdots \\\\\n",
    "                                                                 x_{n2} \\\\\n",
    "                                                                 \\vdots \\\\\n",
    "                                                                 0 \\\\\n",
    "                                                                 \\sqrt\\lambda \\\\\n",
    "                                                                 \\vdots \\\\\n",
    "                                                                 0 \\end{bmatrix} + \n",
    "                                        \\dotsi +\n",
    "                                        \\alpha_{p}\\begin{bmatrix} x_{1p} \\\\ \n",
    "                                                                 \\vdots \\\\\n",
    "                                                                 x_{np} \\\\\n",
    "                                                                 \\vdots \\\\\n",
    "                                                                 0 \\\\\n",
    "                                                                 0 \\\\\n",
    "                                                                 \\vdots \\\\\n",
    "                                                                 \\sqrt\\lambda \\end{bmatrix} = \n",
    "                                        \\begin{bmatrix} \\alpha_{1} x_{11} \\\\ \n",
    "                                                                 \\vdots \\\\\n",
    "                                                                 \\alpha_{1} x_{n1} \\\\\n",
    "                                                                 \\vdots \\\\\n",
    "                                                                 \\alpha_{1} \\sqrt\\lambda \\\\\n",
    "                                                                 \\vdots \\\\\n",
    "                                                                 0 \\\\\n",
    "                                                                 0 \\end{bmatrix} + \n",
    "                                       \\begin{bmatrix} \\alpha_{2} x_{12} \\\\ \n",
    "                                                                 \\vdots \\\\\n",
    "                                                                 \\alpha_{2} x_{n2} \\\\\n",
    "                                                                 \\vdots \\\\\n",
    "                                                                 0 \\\\\n",
    "                                                                 \\alpha_{2} \\sqrt\\lambda \\\\\n",
    "                                                                 \\vdots \\\\\n",
    "                                                                 0 \\end{bmatrix} + \n",
    "                                        \\dotsi +\n",
    "                                        \\begin{bmatrix} \\alpha_{p} x_{1p} \\\\ \n",
    "                                                                 \\vdots \\\\\n",
    "                                                                 \\alpha_{p} x_{np} \\\\\n",
    "                                                                 \\vdots \\\\\n",
    "                                                                 0 \\\\\n",
    "                                                                 0 \\\\\n",
    "                                                                 \\vdots \\\\\n",
    "                                                                 \\alpha_{p} \\sqrt\\lambda \\end{bmatrix} = \n",
    "                                        \\begin{bmatrix} 0 \\\\ \n",
    "                                                        \\vdots \\\\\n",
    "                                                        0 \\\\\n",
    "                                                        \\vdots \\\\\n",
    "                                                        0 \\\\\n",
    "                                                        0 \\\\\n",
    "                                                        \\vdots \\\\\n",
    "                                                        0 \\end{bmatrix}$$\n",
    "\n",
    "\n",
    "This is clearly a system of equations, but let's focus our attention on the $p^{th}, (p+1)^{th}, ..., (n+p)^{th}$ rows. Solving each of these equations clearly shows that $\\{\\alpha_{i}\\}_{i=1}^p = 0, \\forall i$. Hence, we conclude that the columns of $\\widetilde{X}$ are linearly independent, and it follows immediately that $\\widetilde{X}$ has full column-rank.\n"
   ]
  },
  {
   "cell_type": "markdown",
   "metadata": {},
   "source": [
    "### Part (c)\n",
    "\n",
    "In Part(a) we confirmed that for $I \\in \\mathbb{R}^{pxp}$, the $\\beta^{ridge}$ is given by (again pardon the omissino of the hat),\n",
    "\n",
    "$$ \\beta^{ridge} = (X^{T}X + \\lambda I)^{-1}X^{T}y $$\n",
    "\n",
    "Hence,\n",
    "\n",
    "$$ a^{T}\\beta^{ridge} = a^{T}\\bigg[(X^{T}X + \\lambda I)^{-1}X^{T}y\\bigg] $$\n",
    "\n",
    "By associativity,\n",
    "\n",
    "$$ a^{T}\\beta^{ridge} = \\bigg[a^{T}(X^{T}X + \\lambda I)^{-1}X^{T}\\bigg]y $$\n",
    "\n",
    "I'm not sure how much detail is needed, I see it two ways. The first is that this is clearly a linear system in $y$ because matrix multiplication is a linear transformation. The second is that, we're told that $a \\in \\mathbb{R}^p$ as well. Hence, $a^{T} \\in \\mathbb{R}^{1xp}$. It follows that, $\\bigg[a^{T}(X^{T}X + \\lambda I)^{-1}X^{T}\\bigg] \\in \\mathbb{R}^{1xn}$. Hence, when this quantity is multiplied by $y \\in \\mathbb{R}^{n}$, we will get a scalar quantity. I'm not sure exactly what more is being asked, hopefully this is sufficient."
   ]
  },
  {
   "cell_type": "markdown",
   "metadata": {},
   "source": [
    "## Question 3"
   ]
  },
  {
   "cell_type": "markdown",
   "metadata": {},
   "source": [
    "Submitted as a separate .Rmd file - there is a problem installing `rpy2` with the new OS \"macOS High Sierra\" if you have R --version 3.4+, so I can't simply put this all here. (It's a problem regarding clang and g++ compilers from the C-API underneath the hood for Python to R)."
   ]
  }
 ],
 "metadata": {
  "kernelspec": {
   "display_name": "Python 3",
   "language": "python",
   "name": "python3"
  },
  "language_info": {
   "codemirror_mode": {
    "name": "ipython",
    "version": 3
   },
   "file_extension": ".py",
   "mimetype": "text/x-python",
   "name": "python",
   "nbconvert_exporter": "python",
   "pygments_lexer": "ipython3",
   "version": "3.6.3"
  }
 },
 "nbformat": 4,
 "nbformat_minor": 2
}
