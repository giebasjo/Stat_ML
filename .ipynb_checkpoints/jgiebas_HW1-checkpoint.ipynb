{
 "cells": [
  {
   "cell_type": "markdown",
   "metadata": {},
   "source": [
    "# 46-926, Statistical Machine Learning 1: Homework 1\n",
    "\n",
    "*Author*  : Jordan Giebas <br>\n",
    "*Due Date*: January 22nd, 2018 "
   ]
  },
  {
   "cell_type": "markdown",
   "metadata": {},
   "source": [
    "## Question 1:\n",
    "\n",
    "I previously had all of the required packages downloaded. The below input/output cell gives proof,"
   ]
  },
  {
   "cell_type": "code",
   "execution_count": 172,
   "metadata": {},
   "outputs": [
    {
     "name": "stdout",
     "output_type": "stream",
     "text": [
      "Requirement already satisfied: scipy in /usr/local/lib/python3.6/site-packages\r\n",
      "Requirement already satisfied: numpy in /usr/local/lib/python3.6/site-packages\r\n",
      "Requirement already satisfied: sklearn in /usr/local/lib/python3.6/site-packages\r\n",
      "Requirement already satisfied: scikit-learn in /usr/local/lib/python3.6/site-packages (from sklearn)\r\n"
     ]
    }
   ],
   "source": [
    "!pip3 install scipy numpy sklearn"
   ]
  },
  {
   "cell_type": "markdown",
   "metadata": {},
   "source": [
    "## Question 2(i):\n",
    "\n",
    "In question two, we explore the relationship between the correlation of linear regression feature variables and the variance of the estimated parameters for one on the features."
   ]
  },
  {
   "cell_type": "code",
   "execution_count": 173,
   "metadata": {},
   "outputs": [
    {
     "data": {
      "image/png": "[encoded data removed]",
      "text/plain": [
       "<matplotlib.figure.Figure at 0x11312ef28>"
      ]
     },
     "metadata": {},
     "output_type": "display_data"
    }
   ],
   "source": [
    "import pandas as pd\n",
    "import numpy as np\n",
    "import statsmodels.formula.api as sm\n",
    "import matplotlib.pyplot as plt\n",
    "\n",
    "def build_training_df( num_obs, rho ):\n",
    "\n",
    "    n = num_obs\n",
    "    x_means = [0,0]\n",
    "    x_cov = [[1,rho],[rho,1]]\n",
    "    feature_list = [np.random.multivariate_normal(x_means,x_cov) for i in range(n)]\n",
    "\n",
    "    x1_list = pd.Series([x[0] for x in feature_list])\n",
    "    x2_list = pd.Series([x[1] for x in feature_list])\n",
    "    eps_list = pd.Series([np.random.normal() for i in range(n)])\n",
    "\n",
    "    y_list = pd.Series(np.array([ x[0] + x[1] + e for x,e in zip(feature_list, eps_list)]))\n",
    "\n",
    "    df = pd.concat([x1_list,x2_list,y_list], axis=1)\n",
    "    df.columns = ['X_1', 'X_2','Y']\n",
    "    \n",
    "    return df\n",
    "\n",
    "def get_b1h( df ):\n",
    "    \n",
    "    # create a fitted model with all three features\n",
    "    lm = sm.ols(formula='Y ~ X_1 + X_2', data=df).fit()\n",
    "    return lm.bse['X_1']\n",
    "\n",
    "def driver_2a():\n",
    "    \n",
    "    r_ = np.arange(0.0,1.0,0.1)\n",
    "    bh1_ = [get_b1h(build_training_df(500, rho)) for rho in rho_list]\n",
    "    \n",
    "    %matplotlib inline\n",
    "    plt.ylabel('Var(BetaHat_1)')\n",
    "    plt.xlabel('rho')\n",
    "    plt.title('Variance of BetaHat_1 vs. Correlation (rho)')\n",
    "    plt.scatter(r_,bh1_)\n",
    "\n",
    "driver_2a()\n"
   ]
  },
  {
   "cell_type": "markdown",
   "metadata": {},
   "source": [
    "There appears to be a strong, nearly quadratic,  relationship between $\\rho$ and $\\hat{\\beta_{1}}$. The only hiccup is near $\\rho=0.2$, when the relationship hits a local maximum."
   ]
  },
  {
   "cell_type": "markdown",
   "metadata": {},
   "source": [
    "## Question 2(ii):\n",
    "\n",
    "fdslakj;"
   ]
  },
  {
   "cell_type": "code",
   "execution_count": 174,
   "metadata": {},
   "outputs": [
    {
     "data": {
      "image/png": "[encoded data removed]",
      "text/plain": [
       "<matplotlib.figure.Figure at 0x113dad128>"
      ]
     },
     "metadata": {},
     "output_type": "display_data"
    }
   ],
   "source": [
    "def build_test_df( num_obs, rho ):\n",
    "    \n",
    "    n = num_obs\n",
    "    x_means = [0,0]\n",
    "    x_cov = [[1,rho],[rho,1]]\n",
    "    feature_list = [np.random.multivariate_normal(x_means,x_cov) for i in range(n)]\n",
    "\n",
    "    x1_list = pd.Series([x[0] for x in feature_list])\n",
    "    x2_list = pd.Series([x[1] for x in feature_list])\n",
    "    eps_list = pd.Series([np.random.normal() for i in range(n)])\n",
    "\n",
    "    y_list = pd.Series(np.array([ x[0] + x[1] + e for x,e in zip(feature_list, eps_list)]))\n",
    "\n",
    "    df = pd.concat([x1_list,x2_list,y_list], axis=1)\n",
    "    df.columns = ['X_1', 'X_2','Y_act']\n",
    "    \n",
    "    return df\n",
    "\n",
    "def get_linear_model( df ):\n",
    "    \n",
    "    lm = sm.ols(formula='Y ~ X_1 + X_2', data=df).fit()\n",
    "    return lm\n",
    "    \n",
    "    \n",
    "def get_mse( lm, rho ):\n",
    "    \n",
    "    # Build the test dataframe with the rho passed in\n",
    "    test_df = build_test_df(500,rho)\n",
    "    \n",
    "    # Generate the predicted Y values using the linear model passed in,\n",
    "    # and determine the squared error\n",
    "    test_df['Y_pred'] = lm.predict(test_df)\n",
    "    test_df['Y_err'] = (test_df.Y_act - test_df.Y_pred)**2\n",
    "    \n",
    "    # Return the mean squared error \n",
    "    return test_df.Y_err.mean()\n",
    "\n",
    "    \n",
    "def driver_2b():\n",
    "    \n",
    "    rho_list = np.arange(0.0,1.0,0.1)\n",
    "    \n",
    "    # Generate training data set, and get linear model\n",
    "    train_df = build_training_df(500, rho)\n",
    "    lm = get_linear_model( train_df )\n",
    "    \n",
    "    # Pass the linear model and the rho into the get_avgerr function\n",
    "    avgerr_list = [get_mse(lm, rho) for rho in rho_list]\n",
    "        \n",
    "    %matplotlib inline\n",
    "    plt.ylabel('Prediction MSE')\n",
    "    plt.xlabel('rho')\n",
    "    plt.title('Prediction MSE vs. Correlation (rho)')\n",
    "    plt.scatter(rho_list, avgerr_list)\n",
    "    \n",
    "    \n",
    "driver_2b()\n",
    "    \n"
   ]
  },
  {
   "cell_type": "markdown",
   "metadata": {},
   "source": [
    "There appears to be no significant relationship between the correlation of the feature variables and the Mean Squared Error (MSE) of the predicted values. "
   ]
  },
  {
   "cell_type": "markdown",
   "metadata": {},
   "source": [
    "## Question 3:"
   ]
  },
  {
   "cell_type": "code",
   "execution_count": 189,
   "metadata": {},
   "outputs": [
    {
     "data": {
      "text/plain": [
       "<matplotlib.collections.PathCollection at 0x110686518>"
      ]
     },
     "execution_count": 189,
     "metadata": {},
     "output_type": "execute_result"
    },
    {
     "data": {
      "image/png": "[encoded data removed]",
      "text/plain": [
       "<matplotlib.figure.Figure at 0x10c0d4160>"
      ]
     },
     "metadata": {},
     "output_type": "display_data"
    }
   ],
   "source": [
    "from sklearn.linear_model import LinearRegression\n",
    "\n",
    "\n",
    "# Need to generate p features\n",
    "n = 100\n",
    "m = 1000\n",
    "\n",
    "\n",
    "p_dict = {}\n",
    "for p in range(1,81):\n",
    "    \n",
    "    df_train = pd.DataFrame()\n",
    "    df_test = pd.DataFrame()\n",
    "    feature_cols = []\n",
    "    \n",
    "    # Set up the dataframe\n",
    "    for i in range(1,p+1):\n",
    "        \n",
    "        x_list  = pd.Series([np.random.normal() for j in range(n)]) \n",
    "        x2_list = pd.Series([np.random.normal() for j in range(m)]) \n",
    "        \n",
    "        x_str = \"X_\" + str(i)\n",
    "        feature_cols.append(x_str)\n",
    "        \n",
    "        df_train[x_str] = x_list\n",
    "        df_test[x_str] = x2_list\n",
    "    \n",
    "    # Set response var as described 4*X_{0} + eps\n",
    "    df_train['Y'] = 4*df_train.X_1 + np.random.normal()\n",
    "    df_test['Y_act'] = df_train.Y\n",
    "    \n",
    "    # Extract features and responses\n",
    "    X = df_train[feature_cols]\n",
    "    y = df_train.Y\n",
    "\n",
    "    # Perform the linear fit\n",
    "    lm = LinearRegression()\n",
    "    lm.fit(X,y)\n",
    "    \n",
    "    ### NEED TO DRAW A SET OF m = 1000 datapoints\n",
    "    X_new = df_test[feature_cols]\n",
    "    df_test['Y_pred'] = lm.predict(X_new)\n",
    "    df_test['Y_err'] = (df_test.Y_act - df_test.Y_pred)**2\n",
    "    mse = df_test.Y_err.mean()\n",
    "\n",
    "    # Get betahat_vec\n",
    "    betahat_vec = lm.coef_\n",
    "    \n",
    "    # Store into dictionary\n",
    "    p_dict[p] = [betahat_vec,mse]\n",
    "    \n",
    "\n",
    "p_list   = [p for p in p_dict.keys()]\n",
    "mse_list = [p_dict[k][1] for k in p_dict.keys() ] \n",
    "%matplotlib inline\n",
    "plt.ylabel('Prediction MSE')\n",
    "plt.xlabel('p')\n",
    "plt.title('Prediction MSE vs. Dimension of Feature Space (p)')\n",
    "plt.scatter(p_list, mse_list)"
   ]
  },
  {
   "cell_type": "markdown",
   "metadata": {},
   "source": [
    "## Question 4(a):"
   ]
  },
  {
   "cell_type": "code",
   "execution_count": 203,
   "metadata": {},
   "outputs": [
    {
     "name": "stdout",
     "output_type": "stream",
     "text": [
      "The MSE for estimator I:  0.933108751005\n",
      "The MSE for estimator II:  1.4039234834\n",
      "Estimator I is better, since it has a lower MSE\n"
     ]
    }
   ],
   "source": [
    "def q4_a():\n",
    "\n",
    "    # Estimator I: Using the mean \n",
    "    def est1_mse():\n",
    "\n",
    "        sqerr_list = [(np.random.exponential(1) - 1)**2 for i in range(1000)]\n",
    "        mse_e1 = np.mean(sqerr_list)\n",
    "\n",
    "        return mse_e1\n",
    "\n",
    "    # Estimator II: Using the median\n",
    "    def est2_mse():\n",
    "\n",
    "        sqerr_list = [(np.random.exponential(1) - np.log(2))**2 for i in range(1000)]\n",
    "        mse_e2 = np.mean(sqerr_list)\n",
    "\n",
    "        return mse_e2\n",
    "\n",
    "    def print_helper( s ):\n",
    "\n",
    "        print(\"Estimator %s is better, since it has a lower MSE\" % s)\n",
    "\n",
    "\n",
    "    print(\"The MSE for estimator I: \", est1_mse())\n",
    "    print(\"The MSE for estimator II: \", est2_mse())\n",
    "\n",
    "    print_helper(\"I\") if (est1_mse() < est2_mse()) else print_helper(\"II\")\n",
    "    \n",
    "q4_a()\n",
    "\n"
   ]
  },
  {
   "cell_type": "markdown",
   "metadata": {},
   "source": [
    "## Question 4(b):"
   ]
  },
  {
   "cell_type": "code",
   "execution_count": 205,
   "metadata": {},
   "outputs": [
    {
     "name": "stdout",
     "output_type": "stream",
     "text": [
      "The MSE for estimator I:  0.74129428077\n",
      "The MSE for estimator II:  0.692825793092\n",
      "Estimator II is better, since it has a lower MSE\n"
     ]
    }
   ],
   "source": [
    "from math import fabs\n",
    "\n",
    "def q4_b():\n",
    "\n",
    "    # Estimator I: Using the mean \n",
    "    def est1_mse():\n",
    "\n",
    "        sqerr_list = [fabs(np.random.exponential(1) - 1) for i in range(1000)]\n",
    "        mse_e1 = np.mean(sqerr_list)\n",
    "\n",
    "        return mse_e1\n",
    "\n",
    "    # Estimator II: Using the median\n",
    "    def est2_mse():\n",
    "\n",
    "        sqerr_list = [fabs(np.random.exponential(1) - np.log(2)) for i in range(1000)]\n",
    "        mse_e2 = np.mean(sqerr_list)\n",
    "\n",
    "        return mse_e2\n",
    "\n",
    "    def print_helper( s ):\n",
    "\n",
    "        print(\"Estimator %s is better, since it has a lower MSE\" % s)\n",
    "\n",
    "\n",
    "    print(\"The MSE for estimator I: \", est1_mse())\n",
    "    print(\"The MSE for estimator II: \", est2_mse())\n",
    "\n",
    "    print_helper(\"I\") if (est1_mse() < est2_mse()) else print_helper(\"II\")\n",
    "    \n",
    "q4_b()"
   ]
  },
  {
   "cell_type": "markdown",
   "metadata": {},
   "source": [
    "This is interesting. By the above two cells, we see that the estimator II, the estimator using the median, is better when using the median squared prediction error but it's worse when using the mean squared error per usual. "
   ]
  },
  {
   "cell_type": "code",
   "execution_count": null,
   "metadata": {},
   "outputs": [],
   "source": []
  }
 ],
 "metadata": {
  "kernelspec": {
   "display_name": "Python 3",
   "language": "python",
   "name": "python3"
  },
  "language_info": {
   "codemirror_mode": {
    "name": "ipython",
    "version": 3
   },
   "file_extension": ".py",
   "mimetype": "text/x-python",
   "name": "python",
   "nbconvert_exporter": "python",
   "pygments_lexer": "ipython3",
   "version": "3.6.3"
  }
 },
 "nbformat": 4,
 "nbformat_minor": 2
}
