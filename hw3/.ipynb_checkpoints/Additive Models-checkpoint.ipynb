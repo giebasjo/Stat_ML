{
 "cells": [
  {
   "cell_type": "code",
   "execution_count": 3,
   "metadata": {
    "collapsed": true
   },
   "outputs": [],
   "source": [
    "import numpy as np\n",
    "import sklearn as sk\n",
    "import matplotlib\n",
    "import matplotlib.pyplot as plt\n",
    "import scipy.stats\n",
    "from pygam import LinearGAM\n",
    "from pygam.utils import generate_X_grid\n",
    "import pandas as pd"
   ]
  },
  {
   "cell_type": "markdown",
   "metadata": {},
   "source": [
    "Grab a data example from ISL.  Wages for males in the central east coast of the US.  Just a demo."
   ]
  },
  {
   "cell_type": "code",
   "execution_count": 57,
   "metadata": {
    "collapsed": true
   },
   "outputs": [],
   "source": [
    "wage = pd.read_csv('wage.csv', index_col=0)\n",
    "X = wage[['year', 'age', 'education']].values\n",
    "X[:,-1] = np.unique(X[:,-1], return_inverse=True)[1]\n",
    "y = wage['wage']"
   ]
  },
  {
   "cell_type": "code",
   "execution_count": 59,
   "metadata": {},
   "outputs": [
    {
     "data": {
      "text/plain": [
       "array([[2006, 18, 0],\n",
       "       [2004, 24, 3],\n",
       "       [2003, 45, 2],\n",
       "       ..., \n",
       "       [2005, 27, 0],\n",
       "       [2005, 27, 2],\n",
       "       [2009, 55, 1]], dtype=object)"
      ]
     },
     "execution_count": 59,
     "metadata": {},
     "output_type": "execute_result"
    }
   ],
   "source": [
    "X"
   ]
  },
  {
   "cell_type": "code",
   "execution_count": 60,
   "metadata": {
    "collapsed": true
   },
   "outputs": [],
   "source": [
    "#Let's make a train-test split for fun\n",
    "from sklearn.model_selection import train_test_split\n",
    "X_train, X_test, y_train, y_test = train_test_split(X, y, test_size=0.33, random_state=1)"
   ]
  },
  {
   "cell_type": "code",
   "execution_count": 77,
   "metadata": {},
   "outputs": [
    {
     "name": "stderr",
     "output_type": "stream",
     "text": [
      "N/A% (0 of 30) |                         | Elapsed Time: 0:00:00 ETA:  --:--:--/usr/local/lib/python3.5/dist-packages/pygam/pygam.py:1187: UserWarning: detected catergorical data for feature 2\n",
      "  self._validate_data_dep_params(X)\n",
      "/usr/local/lib/python3.5/dist-packages/pygam/utils.py:69: UserWarning: Could not import Scikit-Sparse or Suite-Sparse.\n",
      "This will slow down optimization for models with monotonicity/convexity penalties and many splines.\n",
      "See installation instructions for installing Scikit-Sparse and Suite-Sparse via Conda.\n",
      "  warnings.warn(msg)\n",
      "  3% (1 of 30) |                          | Elapsed Time: 0:00:00 ETA:  0:00:03/usr/local/lib/python3.5/dist-packages/pygam/pygam.py:1187: UserWarning: detected catergorical data for feature 2\n",
      "  self._validate_data_dep_params(X)\n",
      "/usr/local/lib/python3.5/dist-packages/pygam/utils.py:69: UserWarning: Could not import Scikit-Sparse or Suite-Sparse.\n",
      "This will slow down optimization for models with monotonicity/convexity penalties and many splines.\n",
      "See installation instructions for installing Scikit-Sparse and Suite-Sparse via Conda.\n",
      "  warnings.warn(msg)\n",
      "  6% (2 of 30) |#                         | Elapsed Time: 0:00:00 ETA:  0:00:03/usr/local/lib/python3.5/dist-packages/pygam/pygam.py:1187: UserWarning: detected catergorical data for feature 2\n",
      "  self._validate_data_dep_params(X)\n",
      "/usr/local/lib/python3.5/dist-packages/pygam/utils.py:69: UserWarning: Could not import Scikit-Sparse or Suite-Sparse.\n",
      "This will slow down optimization for models with monotonicity/convexity penalties and many splines.\n",
      "See installation instructions for installing Scikit-Sparse and Suite-Sparse via Conda.\n",
      "  warnings.warn(msg)\n",
      " 10% (3 of 30) |##                        | Elapsed Time: 0:00:00 ETA:  0:00:02/usr/local/lib/python3.5/dist-packages/pygam/pygam.py:1187: UserWarning: detected catergorical data for feature 2\n",
      "  self._validate_data_dep_params(X)\n",
      "/usr/local/lib/python3.5/dist-packages/pygam/utils.py:69: UserWarning: Could not import Scikit-Sparse or Suite-Sparse.\n",
      "This will slow down optimization for models with monotonicity/convexity penalties and many splines.\n",
      "See installation instructions for installing Scikit-Sparse and Suite-Sparse via Conda.\n",
      "  warnings.warn(msg)\n",
      " 13% (4 of 30) |###                       | Elapsed Time: 0:00:00 ETA:  0:00:03/usr/local/lib/python3.5/dist-packages/pygam/pygam.py:1187: UserWarning: detected catergorical data for feature 2\n",
      "  self._validate_data_dep_params(X)\n",
      "/usr/local/lib/python3.5/dist-packages/pygam/utils.py:69: UserWarning: Could not import Scikit-Sparse or Suite-Sparse.\n",
      "This will slow down optimization for models with monotonicity/convexity penalties and many splines.\n",
      "See installation instructions for installing Scikit-Sparse and Suite-Sparse via Conda.\n",
      "  warnings.warn(msg)\n",
      " 16% (5 of 30) |####                      | Elapsed Time: 0:00:00 ETA:  0:00:03/usr/local/lib/python3.5/dist-packages/pygam/pygam.py:1187: UserWarning: detected catergorical data for feature 2\n",
      "  self._validate_data_dep_params(X)\n",
      "/usr/local/lib/python3.5/dist-packages/pygam/utils.py:69: UserWarning: Could not import Scikit-Sparse or Suite-Sparse.\n",
      "This will slow down optimization for models with monotonicity/convexity penalties and many splines.\n",
      "See installation instructions for installing Scikit-Sparse and Suite-Sparse via Conda.\n",
      "  warnings.warn(msg)\n",
      " 20% (6 of 30) |#####                     | Elapsed Time: 0:00:00 ETA:  0:00:03/usr/local/lib/python3.5/dist-packages/pygam/pygam.py:1187: UserWarning: detected catergorical data for feature 2\n",
      "  self._validate_data_dep_params(X)\n",
      "/usr/local/lib/python3.5/dist-packages/pygam/utils.py:69: UserWarning: Could not import Scikit-Sparse or Suite-Sparse.\n",
      "This will slow down optimization for models with monotonicity/convexity penalties and many splines.\n",
      "See installation instructions for installing Scikit-Sparse and Suite-Sparse via Conda.\n",
      "  warnings.warn(msg)\n",
      " 23% (7 of 30) |######                    | Elapsed Time: 0:00:00 ETA:  0:00:03/usr/local/lib/python3.5/dist-packages/pygam/pygam.py:1187: UserWarning: detected catergorical data for feature 2\n",
      "  self._validate_data_dep_params(X)\n",
      "/usr/local/lib/python3.5/dist-packages/pygam/utils.py:69: UserWarning: Could not import Scikit-Sparse or Suite-Sparse.\n",
      "This will slow down optimization for models with monotonicity/convexity penalties and many splines.\n",
      "See installation instructions for installing Scikit-Sparse and Suite-Sparse via Conda.\n",
      "  warnings.warn(msg)\n",
      " 26% (8 of 30) |######                    | Elapsed Time: 0:00:01 ETA:  0:00:03/usr/local/lib/python3.5/dist-packages/pygam/pygam.py:1187: UserWarning: detected catergorical data for feature 2\n",
      "  self._validate_data_dep_params(X)\n",
      "/usr/local/lib/python3.5/dist-packages/pygam/utils.py:69: UserWarning: Could not import Scikit-Sparse or Suite-Sparse.\n",
      "This will slow down optimization for models with monotonicity/convexity penalties and many splines.\n",
      "See installation instructions for installing Scikit-Sparse and Suite-Sparse via Conda.\n",
      "  warnings.warn(msg)\n",
      " 30% (9 of 30) |#######                   | Elapsed Time: 0:00:01 ETA:  0:00:03/usr/local/lib/python3.5/dist-packages/pygam/pygam.py:1187: UserWarning: detected catergorical data for feature 2\n",
      "  self._validate_data_dep_params(X)\n",
      "/usr/local/lib/python3.5/dist-packages/pygam/utils.py:69: UserWarning: Could not import Scikit-Sparse or Suite-Sparse.\n",
      "This will slow down optimization for models with monotonicity/convexity penalties and many splines.\n",
      "See installation instructions for installing Scikit-Sparse and Suite-Sparse via Conda.\n",
      "  warnings.warn(msg)\n",
      " 33% (10 of 30) |########                 | Elapsed Time: 0:00:01 ETA:  0:00:03/usr/local/lib/python3.5/dist-packages/pygam/pygam.py:1187: UserWarning: detected catergorical data for feature 2\n",
      "  self._validate_data_dep_params(X)\n",
      "/usr/local/lib/python3.5/dist-packages/pygam/utils.py:69: UserWarning: Could not import Scikit-Sparse or Suite-Sparse.\n",
      "This will slow down optimization for models with monotonicity/convexity penalties and many splines.\n",
      "See installation instructions for installing Scikit-Sparse and Suite-Sparse via Conda.\n",
      "  warnings.warn(msg)\n",
      " 36% (11 of 30) |#########                | Elapsed Time: 0:00:01 ETA:  0:00:03/usr/local/lib/python3.5/dist-packages/pygam/pygam.py:1187: UserWarning: detected catergorical data for feature 2\n",
      "  self._validate_data_dep_params(X)\n",
      "/usr/local/lib/python3.5/dist-packages/pygam/utils.py:69: UserWarning: Could not import Scikit-Sparse or Suite-Sparse.\n",
      "This will slow down optimization for models with monotonicity/convexity penalties and many splines.\n",
      "See installation instructions for installing Scikit-Sparse and Suite-Sparse via Conda.\n",
      "  warnings.warn(msg)\n",
      " 40% (12 of 30) |##########               | Elapsed Time: 0:00:01 ETA:  0:00:03/usr/local/lib/python3.5/dist-packages/pygam/pygam.py:1187: UserWarning: detected catergorical data for feature 2\n",
      "  self._validate_data_dep_params(X)\n",
      "/usr/local/lib/python3.5/dist-packages/pygam/utils.py:69: UserWarning: Could not import Scikit-Sparse or Suite-Sparse.\n",
      "This will slow down optimization for models with monotonicity/convexity penalties and many splines.\n",
      "See installation instructions for installing Scikit-Sparse and Suite-Sparse via Conda.\n",
      "  warnings.warn(msg)\n",
      " 43% (13 of 30) |##########               | Elapsed Time: 0:00:02 ETA:  0:00:03/usr/local/lib/python3.5/dist-packages/pygam/pygam.py:1187: UserWarning: detected catergorical data for feature 2\n",
      "  self._validate_data_dep_params(X)\n",
      "/usr/local/lib/python3.5/dist-packages/pygam/utils.py:69: UserWarning: Could not import Scikit-Sparse or Suite-Sparse.\n",
      "This will slow down optimization for models with monotonicity/convexity penalties and many splines.\n",
      "See installation instructions for installing Scikit-Sparse and Suite-Sparse via Conda.\n",
      "  warnings.warn(msg)\n",
      " 46% (14 of 30) |###########              | Elapsed Time: 0:00:02 ETA:  0:00:02/usr/local/lib/python3.5/dist-packages/pygam/pygam.py:1187: UserWarning: detected catergorical data for feature 2\n",
      "  self._validate_data_dep_params(X)\n",
      "/usr/local/lib/python3.5/dist-packages/pygam/utils.py:69: UserWarning: Could not import Scikit-Sparse or Suite-Sparse.\n",
      "This will slow down optimization for models with monotonicity/convexity penalties and many splines.\n",
      "See installation instructions for installing Scikit-Sparse and Suite-Sparse via Conda.\n",
      "  warnings.warn(msg)\n",
      " 50% (15 of 30) |############             | Elapsed Time: 0:00:02 ETA:  0:00:02/usr/local/lib/python3.5/dist-packages/pygam/pygam.py:1187: UserWarning: detected catergorical data for feature 2\n",
      "  self._validate_data_dep_params(X)\n",
      "/usr/local/lib/python3.5/dist-packages/pygam/utils.py:69: UserWarning: Could not import Scikit-Sparse or Suite-Sparse.\n",
      "This will slow down optimization for models with monotonicity/convexity penalties and many splines.\n",
      "See installation instructions for installing Scikit-Sparse and Suite-Sparse via Conda.\n",
      "  warnings.warn(msg)\n",
      " 53% (16 of 30) |#############            | Elapsed Time: 0:00:02 ETA:  0:00:02/usr/local/lib/python3.5/dist-packages/pygam/pygam.py:1187: UserWarning: detected catergorical data for feature 2\n",
      "  self._validate_data_dep_params(X)\n",
      "/usr/local/lib/python3.5/dist-packages/pygam/utils.py:69: UserWarning: Could not import Scikit-Sparse or Suite-Sparse.\n",
      "This will slow down optimization for models with monotonicity/convexity penalties and many splines.\n",
      "See installation instructions for installing Scikit-Sparse and Suite-Sparse via Conda.\n",
      "  warnings.warn(msg)\n",
      " 56% (17 of 30) |##############           | Elapsed Time: 0:00:02 ETA:  0:00:01/usr/local/lib/python3.5/dist-packages/pygam/pygam.py:1187: UserWarning: detected catergorical data for feature 2\n",
      "  self._validate_data_dep_params(X)\n",
      "/usr/local/lib/python3.5/dist-packages/pygam/utils.py:69: UserWarning: Could not import Scikit-Sparse or Suite-Sparse.\n",
      "This will slow down optimization for models with monotonicity/convexity penalties and many splines.\n",
      "See installation instructions for installing Scikit-Sparse and Suite-Sparse via Conda.\n",
      "  warnings.warn(msg)\n",
      " 60% (18 of 30) |###############          | Elapsed Time: 0:00:02 ETA:  0:00:01/usr/local/lib/python3.5/dist-packages/pygam/pygam.py:1187: UserWarning: detected catergorical data for feature 2\n",
      "  self._validate_data_dep_params(X)\n",
      "/usr/local/lib/python3.5/dist-packages/pygam/utils.py:69: UserWarning: Could not import Scikit-Sparse or Suite-Sparse.\n",
      "This will slow down optimization for models with monotonicity/convexity penalties and many splines.\n",
      "See installation instructions for installing Scikit-Sparse and Suite-Sparse via Conda.\n",
      "  warnings.warn(msg)\n",
      " 63% (19 of 30) |###############          | Elapsed Time: 0:00:03 ETA:  0:00:01/usr/local/lib/python3.5/dist-packages/pygam/pygam.py:1187: UserWarning: detected catergorical data for feature 2\n",
      "  self._validate_data_dep_params(X)\n",
      "/usr/local/lib/python3.5/dist-packages/pygam/utils.py:69: UserWarning: Could not import Scikit-Sparse or Suite-Sparse.\n",
      "This will slow down optimization for models with monotonicity/convexity penalties and many splines.\n",
      "See installation instructions for installing Scikit-Sparse and Suite-Sparse via Conda.\n",
      "  warnings.warn(msg)\n",
      " 66% (20 of 30) |################         | Elapsed Time: 0:00:03 ETA:  0:00:01/usr/local/lib/python3.5/dist-packages/pygam/pygam.py:1187: UserWarning: detected catergorical data for feature 2\n",
      "  self._validate_data_dep_params(X)\n",
      "/usr/local/lib/python3.5/dist-packages/pygam/utils.py:69: UserWarning: Could not import Scikit-Sparse or Suite-Sparse.\n",
      "This will slow down optimization for models with monotonicity/convexity penalties and many splines.\n",
      "See installation instructions for installing Scikit-Sparse and Suite-Sparse via Conda.\n",
      "  warnings.warn(msg)\n",
      " 70% (21 of 30) |#################        | Elapsed Time: 0:00:03 ETA:  0:00:01/usr/local/lib/python3.5/dist-packages/pygam/pygam.py:1187: UserWarning: detected catergorical data for feature 2\n",
      "  self._validate_data_dep_params(X)\n",
      "/usr/local/lib/python3.5/dist-packages/pygam/utils.py:69: UserWarning: Could not import Scikit-Sparse or Suite-Sparse.\n",
      "This will slow down optimization for models with monotonicity/convexity penalties and many splines.\n",
      "See installation instructions for installing Scikit-Sparse and Suite-Sparse via Conda.\n",
      "  warnings.warn(msg)\n",
      " 73% (22 of 30) |##################       | Elapsed Time: 0:00:03 ETA:  0:00:01/usr/local/lib/python3.5/dist-packages/pygam/pygam.py:1187: UserWarning: detected catergorical data for feature 2\n",
      "  self._validate_data_dep_params(X)\n",
      "/usr/local/lib/python3.5/dist-packages/pygam/utils.py:69: UserWarning: Could not import Scikit-Sparse or Suite-Sparse.\n",
      "This will slow down optimization for models with monotonicity/convexity penalties and many splines.\n",
      "See installation instructions for installing Scikit-Sparse and Suite-Sparse via Conda.\n",
      "  warnings.warn(msg)\n",
      " 76% (23 of 30) |###################      | Elapsed Time: 0:00:03 ETA:  0:00:00/usr/local/lib/python3.5/dist-packages/pygam/pygam.py:1187: UserWarning: detected catergorical data for feature 2\n",
      "  self._validate_data_dep_params(X)\n",
      "/usr/local/lib/python3.5/dist-packages/pygam/utils.py:69: UserWarning: Could not import Scikit-Sparse or Suite-Sparse.\n",
      "This will slow down optimization for models with monotonicity/convexity penalties and many splines.\n",
      "See installation instructions for installing Scikit-Sparse and Suite-Sparse via Conda.\n",
      "  warnings.warn(msg)\n",
      " 80% (24 of 30) |####################     | Elapsed Time: 0:00:03 ETA:  0:00:00/usr/local/lib/python3.5/dist-packages/pygam/pygam.py:1187: UserWarning: detected catergorical data for feature 2\n",
      "  self._validate_data_dep_params(X)\n",
      "/usr/local/lib/python3.5/dist-packages/pygam/utils.py:69: UserWarning: Could not import Scikit-Sparse or Suite-Sparse.\n",
      "This will slow down optimization for models with monotonicity/convexity penalties and many splines.\n",
      "See installation instructions for installing Scikit-Sparse and Suite-Sparse via Conda.\n",
      "  warnings.warn(msg)\n",
      " 83% (25 of 30) |####################     | Elapsed Time: 0:00:03 ETA:  0:00:00/usr/local/lib/python3.5/dist-packages/pygam/pygam.py:1187: UserWarning: detected catergorical data for feature 2\n",
      "  self._validate_data_dep_params(X)\n",
      "/usr/local/lib/python3.5/dist-packages/pygam/utils.py:69: UserWarning: Could not import Scikit-Sparse or Suite-Sparse.\n",
      "This will slow down optimization for models with monotonicity/convexity penalties and many splines.\n",
      "See installation instructions for installing Scikit-Sparse and Suite-Sparse via Conda.\n",
      "  warnings.warn(msg)\n",
      " 86% (26 of 30) |#####################    | Elapsed Time: 0:00:03 ETA:  0:00:00/usr/local/lib/python3.5/dist-packages/pygam/pygam.py:1187: UserWarning: detected catergorical data for feature 2\n",
      "  self._validate_data_dep_params(X)\n",
      "/usr/local/lib/python3.5/dist-packages/pygam/utils.py:69: UserWarning: Could not import Scikit-Sparse or Suite-Sparse.\n",
      "This will slow down optimization for models with monotonicity/convexity penalties and many splines.\n",
      "See installation instructions for installing Scikit-Sparse and Suite-Sparse via Conda.\n",
      "  warnings.warn(msg)\n",
      " 90% (27 of 30) |######################   | Elapsed Time: 0:00:03 ETA:  0:00:00/usr/local/lib/python3.5/dist-packages/pygam/pygam.py:1187: UserWarning: detected catergorical data for feature 2\n",
      "  self._validate_data_dep_params(X)\n",
      "/usr/local/lib/python3.5/dist-packages/pygam/utils.py:69: UserWarning: Could not import Scikit-Sparse or Suite-Sparse.\n",
      "This will slow down optimization for models with monotonicity/convexity penalties and many splines.\n",
      "See installation instructions for installing Scikit-Sparse and Suite-Sparse via Conda.\n",
      "  warnings.warn(msg)\n",
      " 93% (28 of 30) |#######################  | Elapsed Time: 0:00:03 ETA:  0:00:00/usr/local/lib/python3.5/dist-packages/pygam/pygam.py:1187: UserWarning: detected catergorical data for feature 2\n",
      "  self._validate_data_dep_params(X)\n",
      "/usr/local/lib/python3.5/dist-packages/pygam/utils.py:69: UserWarning: Could not import Scikit-Sparse or Suite-Sparse.\n",
      "This will slow down optimization for models with monotonicity/convexity penalties and many splines.\n",
      "See installation instructions for installing Scikit-Sparse and Suite-Sparse via Conda.\n",
      "  warnings.warn(msg)\n",
      " 96% (29 of 30) |######################## | Elapsed Time: 0:00:04 ETA:  0:00:00/usr/local/lib/python3.5/dist-packages/pygam/pygam.py:1187: UserWarning: detected catergorical data for feature 2\n",
      "  self._validate_data_dep_params(X)\n",
      "/usr/local/lib/python3.5/dist-packages/pygam/utils.py:69: UserWarning: Could not import Scikit-Sparse or Suite-Sparse.\n",
      "This will slow down optimization for models with monotonicity/convexity penalties and many splines.\n",
      "See installation instructions for installing Scikit-Sparse and Suite-Sparse via Conda.\n",
      "  warnings.warn(msg)\n",
      "100% (30 of 30) |#########################| Elapsed Time: 0:00:04 Time: 0:00:04\n"
     ]
    }
   ],
   "source": [
    "fit = LinearGAM().gridsearch(X_train, y_train, lam = np.logspace(-2, 3, 30))\n",
    "#gam = LinearGAM(n_splines=10).gridsearch(X, y)"
   ]
  },
  {
   "cell_type": "code",
   "execution_count": 83,
   "metadata": {},
   "outputs": [
    {
     "data": {
      "image/png": "[encoded data removed]",
      "text/plain": [
       "<matplotlib.figure.Figure at 0x7f92ff5dd5c0>"
      ]
     },
     "metadata": {},
     "output_type": "display_data"
    }
   ],
   "source": [
    "XX = generate_X_grid(fit)\n",
    "\n",
    "fig, axs = plt.subplots(1, 3)\n",
    "titles = ['year', 'age', 'education']\n",
    "\n",
    "for i, ax in enumerate(axs):\n",
    "    pdep, confi = fit.partial_dependence(XX, feature=i+1, width=.95)\n",
    "\n",
    "    ax.plot(XX[:, i], pdep)\n",
    "    #ax.plot(XX[:, i], confi[0], c='r', ls='--')\n",
    "    ax.set_title(titles[i])\n",
    "\n",
    "plt.show()"
   ]
  },
  {
   "cell_type": "code",
   "execution_count": 80,
   "metadata": {},
   "outputs": [
    {
     "data": {
      "text/plain": [
       "1198.2206843476245"
      ]
     },
     "execution_count": 80,
     "metadata": {},
     "output_type": "execute_result"
    }
   ],
   "source": [
    "from sklearn.metrics import mean_squared_error\n",
    "yhat = fit.predict(X_test)\n",
    "mean_squared_error(y_test, yhat)\n"
   ]
  },
  {
   "cell_type": "code",
   "execution_count": 82,
   "metadata": {},
   "outputs": [
    {
     "data": {
      "text/plain": [
       "1268.0785845812698"
      ]
     },
     "execution_count": 82,
     "metadata": {},
     "output_type": "execute_result"
    }
   ],
   "source": [
    "#Compare to a linear model, does the additive model gain anything?\n",
    "from sklearn.linear_model import LinearRegression\n",
    "lmfit = LinearRegression().fit(X_train, y_train)\n",
    "\n",
    "yhat_lm = lmfit.predict(X_test)\n",
    "mean_squared_error(y_test, yhat_lm)\n"
   ]
  }
 ],
 "metadata": {
  "kernelspec": {
   "display_name": "Python 3",
   "language": "python",
   "name": "python3"
  },
  "language_info": {
   "codemirror_mode": {
    "name": "ipython",
    "version": 3
   },
   "file_extension": ".py",
   "mimetype": "text/x-python",
   "name": "python",
   "nbconvert_exporter": "python",
   "pygments_lexer": "ipython3",
   "version": "3.6.3"
  }
 },
 "nbformat": 4,
 "nbformat_minor": 2
}
