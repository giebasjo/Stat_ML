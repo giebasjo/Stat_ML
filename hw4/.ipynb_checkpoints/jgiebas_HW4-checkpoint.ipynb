{
 "cells": [
  {
   "cell_type": "markdown",
   "metadata": {},
   "source": [
    "# 46-926, Statistical Machine Learning 1: Homework 4\n",
    "\n",
    "*Author*  : Jordan Giebas <br>\n",
    "*Due Date*: Februrary 11th, 2018 "
   ]
  },
  {
   "cell_type": "code",
   "execution_count": 3,
   "metadata": {},
   "outputs": [],
   "source": [
    "import warnings\n",
    "warnings.filterwarnings('ignore')"
   ]
  },
  {
   "cell_type": "markdown",
   "metadata": {},
   "source": [
    "## Question 1: *Best Classification for asymmetric losses*\n",
    "\n",
    "If we assume that we know the joint distribution of $(X,Y)$, we saw in class that the optimal classifier is given by the function, \n",
    "\n",
    "$$ f(x) = \\begin{cases} \n",
    "          1 & \\mathbb{P}\\big(Y=1|X=x\\big) > 0.5 \\\\\n",
    "          0 & otherwise \n",
    "          \\end{cases} $$\n",
    "          \n",
    "Suppose instead our loss is summarized in the following table,\n",
    "\n",
    "<table \"border\"=1>\n",
    "    <tr>\n",
    "        <td>\n",
    "        \n",
    "        </td>\n",
    "        <td>\n",
    "            True Y = 1\n",
    "        </td>\n",
    "        <td>\n",
    "            True Y = 0\n",
    "        </td>\n",
    "    </tr>\n",
    "    <tr>\n",
    "        <td>\n",
    "            Guess Y = 1\n",
    "        </td>\n",
    "        <td>\n",
    "            0\n",
    "        </td>\n",
    "        <td>\n",
    "            $L_{01}$\n",
    "        </td\n",
    "    </tr>\n",
    "        <tr>\n",
    "        <td>\n",
    "            Guess Y = 0\n",
    "        </td>\n",
    "        <td>\n",
    "            $L_{10}$\n",
    "        </td>\n",
    "        <td>\n",
    "            0\n",
    "        </td>\n",
    "    </tr>\n",
    "</table>"
   ]
  },
  {
   "cell_type": "markdown",
   "metadata": {},
   "source": [
    "### Part (a) \n",
    "Again assume that we know the joint distribution $(X,Y)$. Find the best possible classification function $f(x)$ in a derivation similar to class. <br>\n",
    "\n",
    "Following the idea from class, we would like to solve the following optimization problem:\n",
    "\n",
    "$$\n",
    "    \\begin{aligned}\n",
    "    \\hat{f}(x) &= {\\operatorname{arg\\,min}}_{g}\\ \\sum_{k=0}^{1}\\mathcal{L}(k,g)\\mathbb{P}(Y=k|X=x)\\\\\n",
    "               &= {\\operatorname{arg\\,min}}_{g}\\ L_{k,g}\\mathbb{1}_{\\{k\\neq g\\}}\\mathbb{P}(Y=k|X=x) \\\\\n",
    "               &= {\\operatorname{min}}\\ L_{0,1}\\mathbb{P}(Y=0|X=x) + L_{1,0}\\mathbb{P}(Y=1|X=x)\n",
    "   \\end{aligned}\n",
    "$$\n",
    "\n",
    "\n",
    "Hence, we choose our function $\\hat{f}(x)$ in such a way to minimize this quantity. Consider the following choice, \n",
    "\n",
    "$$ \\hat{f}(x) = \\begin{cases} \n",
    "          1 &  L_{1,0}\\mathbb{P}(Y=1|X=x) \\geq L_{0,1}\\mathbb{P}(Y=0|X=x) \\\\\n",
    "          0 & otherwise \n",
    "          \\end{cases} $$\n",
    "          \n",
    "The above function is guarenteed to minimize the expected loss. Surely, if $L_{1,0}\\mathbb{P}(Y=1|X=x) \\geq L_{0,1}\\mathbb{P}(Y=0|X=x)$, then we should impose that $f(x)=1$ so that the second term in the equation vanishes leaving us with the lesser loss. The other direction follows from this logic as well.<br>\n",
    "<br>\n",
    "**Note:** (a) I'm not necessarily sure how I would solve this if we weren't in a binary world and (b) I'm not sure how to exactly minimize that argument and arrive at the function presented through algebra, the above only offers a logical argument. "
   ]
  },
  {
   "cell_type": "markdown",
   "metadata": {},
   "source": [
    "### Part (b)\n",
    "\n",
    "Suppose that $L_{1,0}>L_{0,1}$, how is the classification rule defined above different from the 0-1 loss defined in class? <br>\n",
    "\n",
    "As mentioned above, in the 0-1 case our classifier is given by,\n",
    "\n",
    "$$ f(x) = \\begin{cases} \n",
    "          1 & \\mathbb{P}\\big(Y=1|X=x\\big) > 0.5 \\\\\n",
    "          0 & otherwise \n",
    "          \\end{cases} $$\n",
    "          \n",
    "Note the obvious, that $0.5 = \\frac{1}{2} = \\frac{1}{1+1}$. Notice that this resembles a weighted average, and this nice case is essentially a consequence of the symmetry inherent in the problem considered in class (i.e. $L_{i,j} = \\mathbb{1}_{i\\neq j}$). <br>\n",
    "\n",
    "In our present setting, we have a similar notion of a weighted average amongst the loss coefficients. Consider the estimated function derived in part(a), and assume that $L_{1,0}>L_{0,1}$. For $\\hat{f}(x) = 1$, it follows that $L_{1,0}\\mathbb{P}(Y=1|X=x) \\geq L_{0,1}\\mathbb{P}(Y=0|X=x)$. Let $\\alpha := \\frac{L_{1,0}}{L_{0,1}}$, $p=\\mathbb{P}(Y=1|X=x)$ and note that $1-p=\\mathbb{P}(Y=0|X=x)$. Then,\n",
    "\n",
    "$$ L_{1,0}\\mathbb{P}(Y=1|X=x) \\geq L_{0,1}\\mathbb{P}(Y=0|X=x) := \\alpha p \\geq 1-p $$\n",
    "\n",
    "It follows that, \n",
    "\n",
    "$$ \n",
    "    \\begin{aligned}\n",
    "     \\alpha p \\geq 1-p &\\implies (\\alpha + 1)p \\geq 1-p\\\\ \n",
    "     &\\implies p \\geq \\frac{1}{\\alpha + 1}\\\\\n",
    "     &\\implies p \\geq \\frac{L_{1,0}}{L_{1,0} + L_{0,1}}\n",
    "    \\end{aligned}\n",
    "$$\n",
    " \n",
    "Hence, we may our definition of $\\hat{f}(x)$ as such,\n",
    "\n",
    "$$ \\hat{f}(x) = \\begin{cases} \n",
    "          1 &  \\mathbb{P}(Y=1|X=x) \\geq \\frac{L_{1,0}}{L_{1,0} + L_{0,1}} \\\\\n",
    "          0 & otherwise \n",
    "          \\end{cases} $$\n",
    "\n",
    "In the symmetric case where $L_{i,j} = \\mathbb{1}_{i\\neq j}$, the rule above reduces to the fundamental case presented in class. <br>\n",
    "\n",
    "**Note:** I noted above that I wasn't sure how to minimize the thing algebraically, and I'm still unsure. However, the results above are quite sensible and I can easily see how this would extend to a target space with a dimension greater than two. \n",
    " "
   ]
  },
  {
   "cell_type": "markdown",
   "metadata": {},
   "source": [
    "### Part (c)\n",
    "\n",
    "Using the above notion of a weighted average, this becomes an easy exercise to determine the new rule for the logistic loss function. Recall in the symmetric case, we chose the rule $\\langle x, \\beta^{T}\\rangle \\geq 0$ (where $\\langle x,y \\rangle$ represent the inner product of $x, y$). We chose this rule by the following argument, \n",
    "\n",
    "$$ \\mathbb{P}(Y=1|X=x) = \\frac{exp\\{\\langle x, \\beta^{T}\\rangle\\}}{1+exp\\{\\langle x, \\beta^{T}\\rangle\\}} \\geq 0.5 $$\n",
    "\n",
    "Solving \n",
    "\n",
    "$$ \\frac{exp\\{\\langle x, \\beta^{T}\\rangle\\}}{1+exp\\{\\langle x, \\beta^{T}\\rangle\\}} = 0.5 $$ we find that $\\langle x, \\beta^{T}\\rangle = 0$.\n",
    "\n",
    "In a similar fashion, we now solve the equation,\n",
    "\n",
    "$$ \\frac{exp\\{\\langle x, \\beta^{T}\\rangle\\}}{1+exp\\{\\langle x, \\beta^{T}\\rangle\\}} = \\frac{L_{1,0}}{L_{1,0} + L_{0,1}} $$\n",
    "\n",
    "Upon doing the algebra, we see that \n",
    "\n",
    "$$ \\langle x, \\beta^{T}\\rangle = log\\big(\\frac{L_{1,0}}{L_{0,1}}\\big)$$, and this becomes our new *linear* decision boundary.\n",
    "\n",
    "Hence, our estimated function is now\n",
    "\n",
    "$$ \\hat{f}(x) = \\begin{cases} \n",
    "          1 &   \\langle x, \\beta^{T}\\rangle \\geq log\\big(\\frac{L_{1,0}}{L_{0,1}}\\big) \\\\\n",
    "          0 & otherwise \n",
    "          \\end{cases} $$"
   ]
  },
  {
   "cell_type": "markdown",
   "metadata": {},
   "source": [
    "## Question 2: *Prediction with Marketing Data*\n",
    "Using a family of covariates regarding customer data and whether or not they invested, we would like to make a prediction whether a new customer will invest in the product or not. "
   ]
  },
  {
   "cell_type": "code",
   "execution_count": 4,
   "metadata": {},
   "outputs": [
    {
     "data": {
      "text/html": [
       "<div>\n",
       "<style>\n",
       "    .dataframe thead tr:only-child th {\n",
       "        text-align: right;\n",
       "    }\n",
       "\n",
       "    .dataframe thead th {\n",
       "        text-align: left;\n",
       "    }\n",
       "\n",
       "    .dataframe tbody tr th {\n",
       "        vertical-align: top;\n",
       "    }\n",
       "</style>\n",
       "<table border=\"1\" class=\"dataframe\">\n",
       "  <thead>\n",
       "    <tr style=\"text-align: right;\">\n",
       "      <th></th>\n",
       "      <th>age</th>\n",
       "      <th>balance</th>\n",
       "      <th>y</th>\n",
       "      <th>job_admin.</th>\n",
       "      <th>job_blue-collar</th>\n",
       "      <th>job_entrepreneur</th>\n",
       "      <th>job_housemaid</th>\n",
       "      <th>job_management</th>\n",
       "      <th>job_retired</th>\n",
       "      <th>job_self-employed</th>\n",
       "      <th>...</th>\n",
       "      <th>education_primary</th>\n",
       "      <th>education_secondary</th>\n",
       "      <th>education_tertiary</th>\n",
       "      <th>education_unknown</th>\n",
       "      <th>default_no</th>\n",
       "      <th>default_yes</th>\n",
       "      <th>housing_no</th>\n",
       "      <th>housing_yes</th>\n",
       "      <th>loan_no</th>\n",
       "      <th>loan_yes</th>\n",
       "    </tr>\n",
       "  </thead>\n",
       "  <tbody>\n",
       "    <tr>\n",
       "      <th>45206</th>\n",
       "      <td>51</td>\n",
       "      <td>825</td>\n",
       "      <td>1</td>\n",
       "      <td>0</td>\n",
       "      <td>0</td>\n",
       "      <td>0</td>\n",
       "      <td>0</td>\n",
       "      <td>0</td>\n",
       "      <td>0</td>\n",
       "      <td>0</td>\n",
       "      <td>...</td>\n",
       "      <td>0</td>\n",
       "      <td>0</td>\n",
       "      <td>1</td>\n",
       "      <td>0</td>\n",
       "      <td>1</td>\n",
       "      <td>0</td>\n",
       "      <td>1</td>\n",
       "      <td>0</td>\n",
       "      <td>1</td>\n",
       "      <td>0</td>\n",
       "    </tr>\n",
       "    <tr>\n",
       "      <th>45207</th>\n",
       "      <td>71</td>\n",
       "      <td>1729</td>\n",
       "      <td>1</td>\n",
       "      <td>0</td>\n",
       "      <td>0</td>\n",
       "      <td>0</td>\n",
       "      <td>0</td>\n",
       "      <td>0</td>\n",
       "      <td>1</td>\n",
       "      <td>0</td>\n",
       "      <td>...</td>\n",
       "      <td>1</td>\n",
       "      <td>0</td>\n",
       "      <td>0</td>\n",
       "      <td>0</td>\n",
       "      <td>1</td>\n",
       "      <td>0</td>\n",
       "      <td>1</td>\n",
       "      <td>0</td>\n",
       "      <td>1</td>\n",
       "      <td>0</td>\n",
       "    </tr>\n",
       "    <tr>\n",
       "      <th>45208</th>\n",
       "      <td>72</td>\n",
       "      <td>5715</td>\n",
       "      <td>1</td>\n",
       "      <td>0</td>\n",
       "      <td>0</td>\n",
       "      <td>0</td>\n",
       "      <td>0</td>\n",
       "      <td>0</td>\n",
       "      <td>1</td>\n",
       "      <td>0</td>\n",
       "      <td>...</td>\n",
       "      <td>0</td>\n",
       "      <td>1</td>\n",
       "      <td>0</td>\n",
       "      <td>0</td>\n",
       "      <td>1</td>\n",
       "      <td>0</td>\n",
       "      <td>1</td>\n",
       "      <td>0</td>\n",
       "      <td>1</td>\n",
       "      <td>0</td>\n",
       "    </tr>\n",
       "    <tr>\n",
       "      <th>45209</th>\n",
       "      <td>57</td>\n",
       "      <td>668</td>\n",
       "      <td>0</td>\n",
       "      <td>0</td>\n",
       "      <td>1</td>\n",
       "      <td>0</td>\n",
       "      <td>0</td>\n",
       "      <td>0</td>\n",
       "      <td>0</td>\n",
       "      <td>0</td>\n",
       "      <td>...</td>\n",
       "      <td>0</td>\n",
       "      <td>1</td>\n",
       "      <td>0</td>\n",
       "      <td>0</td>\n",
       "      <td>1</td>\n",
       "      <td>0</td>\n",
       "      <td>1</td>\n",
       "      <td>0</td>\n",
       "      <td>1</td>\n",
       "      <td>0</td>\n",
       "    </tr>\n",
       "    <tr>\n",
       "      <th>45210</th>\n",
       "      <td>37</td>\n",
       "      <td>2971</td>\n",
       "      <td>0</td>\n",
       "      <td>0</td>\n",
       "      <td>0</td>\n",
       "      <td>1</td>\n",
       "      <td>0</td>\n",
       "      <td>0</td>\n",
       "      <td>0</td>\n",
       "      <td>0</td>\n",
       "      <td>...</td>\n",
       "      <td>0</td>\n",
       "      <td>1</td>\n",
       "      <td>0</td>\n",
       "      <td>0</td>\n",
       "      <td>1</td>\n",
       "      <td>0</td>\n",
       "      <td>1</td>\n",
       "      <td>0</td>\n",
       "      <td>1</td>\n",
       "      <td>0</td>\n",
       "    </tr>\n",
       "  </tbody>\n",
       "</table>\n",
       "<p>5 rows × 28 columns</p>\n",
       "</div>"
      ],
      "text/plain": [
       "       age  balance  y  job_admin.  job_blue-collar  job_entrepreneur  \\\n",
       "45206   51      825  1           0                0                 0   \n",
       "45207   71     1729  1           0                0                 0   \n",
       "45208   72     5715  1           0                0                 0   \n",
       "45209   57      668  0           0                1                 0   \n",
       "45210   37     2971  0           0                0                 1   \n",
       "\n",
       "       job_housemaid  job_management  job_retired  job_self-employed  \\\n",
       "45206              0               0            0                  0   \n",
       "45207              0               0            1                  0   \n",
       "45208              0               0            1                  0   \n",
       "45209              0               0            0                  0   \n",
       "45210              0               0            0                  0   \n",
       "\n",
       "         ...     education_primary  education_secondary  education_tertiary  \\\n",
       "45206    ...                     0                    0                   1   \n",
       "45207    ...                     1                    0                   0   \n",
       "45208    ...                     0                    1                   0   \n",
       "45209    ...                     0                    1                   0   \n",
       "45210    ...                     0                    1                   0   \n",
       "\n",
       "       education_unknown  default_no  default_yes  housing_no  housing_yes  \\\n",
       "45206                  0           1            0           1            0   \n",
       "45207                  0           1            0           1            0   \n",
       "45208                  0           1            0           1            0   \n",
       "45209                  0           1            0           1            0   \n",
       "45210                  0           1            0           1            0   \n",
       "\n",
       "       loan_no  loan_yes  \n",
       "45206        1         0  \n",
       "45207        1         0  \n",
       "45208        1         0  \n",
       "45209        1         0  \n",
       "45210        1         0  \n",
       "\n",
       "[5 rows x 28 columns]"
      ]
     },
     "execution_count": 4,
     "metadata": {},
     "output_type": "execute_result"
    }
   ],
   "source": [
    "# Load necessary modules\n",
    "import pandas as pd\n",
    "import numpy as np\n",
    "import matplotlib\n",
    "import matplotlib.pyplot as plt\n",
    "import sklearn\n",
    "from sklearn.model_selection import train_test_split\n",
    "from sklearn.linear_model import LogisticRegression\n",
    "from sklearn.metrics import roc_curve\n",
    "%matplotlib inline\n",
    "\n",
    "# Load the DataFrame\n",
    "df = pd.read_csv('marketing.csv')\n",
    "\n",
    "# Adjust for categorical data\n",
    "df.y = np.where(df.y == 'yes', 1, 0)\n",
    "df = pd.get_dummies(df)\n",
    "df.tail()"
   ]
  },
  {
   "cell_type": "code",
   "execution_count": 5,
   "metadata": {},
   "outputs": [],
   "source": [
    "# Split the dataset into training and test data - as specified\n",
    "X = df.drop('y', axis=1)\n",
    "y = df.y\n",
    "X_train, X_test, y_train, y_test = train_test_split(X,y,test_size=0.33,random_state=1)"
   ]
  },
  {
   "cell_type": "markdown",
   "metadata": {},
   "source": [
    "### Part (a)\n",
    "Estimate the proportion of successes on the training data (i.e. the *base rate*) - this will be useful to keep in mind, as a 'benchmark'. "
   ]
  },
  {
   "cell_type": "code",
   "execution_count": 6,
   "metadata": {},
   "outputs": [
    {
     "name": "stdout",
     "output_type": "stream",
     "text": [
      "The base rate is: 11.7823776039 %\n"
     ]
    }
   ],
   "source": [
    "base_rate = y_train.sum()/len(y_train)\n",
    "print(\"The base rate is:\", base_rate*100.0,\"%\")"
   ]
  },
  {
   "cell_type": "markdown",
   "metadata": {},
   "source": [
    "### Part (b)\n",
    "Fit a logistic regression to the training data using all of the features using `LogisticRegression` from `sklearn` with $C=100000$. "
   ]
  },
  {
   "cell_type": "code",
   "execution_count": 7,
   "metadata": {},
   "outputs": [],
   "source": [
    "# Fit the linear model\n",
    "lmfit = LogisticRegression(C=100000).fit(X_train, y_train)\n",
    "\n",
    "# Perform the prediction\n",
    "y_pred = lmfit.predict(X_test)"
   ]
  },
  {
   "cell_type": "code",
   "execution_count": 8,
   "metadata": {},
   "outputs": [
    {
     "name": "stdout",
     "output_type": "stream",
     "text": [
      "Prop. of 0:  99.97989276139411\n",
      "Prop. of 1:  0.020107238605898123\n"
     ]
    }
   ],
   "source": [
    "# Percent of 0's, 1's respectively from predicition\n",
    "print(\"Prop. of 0: \", y_pred.tolist().count(0)/len(y_pred.tolist())*100.0)\n",
    "print(\"Prop. of 1: \", y_pred.tolist().count(1)/len(y_pred.tolist())*100.0)"
   ]
  },
  {
   "cell_type": "code",
   "execution_count": 9,
   "metadata": {},
   "outputs": [
    {
     "name": "stdout",
     "output_type": "stream",
     "text": [
      "The misclassification rate is:  11.5482573727 %\n"
     ]
    }
   ],
   "source": [
    "print(\"The misclassification rate is: \", np.mean(y_test!=y_pred)*100.0, \"%\")"
   ]
  },
  {
   "cell_type": "markdown",
   "metadata": {},
   "source": [
    "### Part (c)\n",
    "Using the 'silly' classifier that classifies each observation as 'no' (i.e. 0)"
   ]
  },
  {
   "cell_type": "code",
   "execution_count": 10,
   "metadata": {},
   "outputs": [
    {
     "name": "stdout",
     "output_type": "stream",
     "text": [
      "The misclassification rate using the silly classifier is:  0.0201072386059 %\n"
     ]
    }
   ],
   "source": [
    "silly = np.zeros(len(y_pred))\n",
    "print(\"The misclassification rate using the silly classifier is: \", np.mean(silly!=y_pred)*100.0, \"%\")"
   ]
  },
  {
   "cell_type": "markdown",
   "metadata": {},
   "source": [
    "The silly classifier is noticeably better! Using the logisitic classifier we are incorrect about 11.5% of the time, whereas using the silly classifier we're wrong only 0.02% of the time! Wow, we suck!! <br>\n",
    "Yes, this is truly discouraging for our classifier. <br>\n",
    "**It seems that no matter the type/description of the client, they all say no!**"
   ]
  },
  {
   "cell_type": "markdown",
   "metadata": {},
   "source": [
    "### Part (d)\n",
    "Using the logisitic model, find the 1000 clients that are most likely to score 'yes' (i.e have the highest probability that $Y=1$)"
   ]
  },
  {
   "cell_type": "code",
   "execution_count": 11,
   "metadata": {},
   "outputs": [
    {
     "name": "stdout",
     "output_type": "stream",
     "text": [
      "Percent of clients with highest probability that actually say yes: 27.900000\n"
     ]
    }
   ],
   "source": [
    "X_new = X_test.copy()\n",
    "X_new['client_prob'] = lmfit.predict_proba(X_test)[:,1]\n",
    "X_new['y_test'] = y_test\n",
    "X_new = X_new.sort_values(by='client_prob', ascending=False)\n",
    "good_custos = X_new.head(1000)\n",
    "print(\"Percent of clients with highest probability that actually say yes: %f\" % (np.mean(good_custos.y_test)*100.0))"
   ]
  },
  {
   "cell_type": "markdown",
   "metadata": {},
   "source": [
    "The percentage of customers that actually say yes out of the 1000 identified as having the highest probability is 27%! We would expect the base rate of 11.78% if we were pulling a random sample of 1000, so yes our model seems more useful!"
   ]
  },
  {
   "cell_type": "markdown",
   "metadata": {},
   "source": [
    "### Part (e)\n",
    "\n",
    "An introduction to looking at the ROC curve, i.e. the curve plotting sensitivity vs. specificity. More to be discussed in class."
   ]
  },
  {
   "cell_type": "code",
   "execution_count": 12,
   "metadata": {},
   "outputs": [],
   "source": [
    "# Follow the code in homework\n",
    "fpr, trp, _ = roc_curve(X_new.y_test, X_new.client_prob)"
   ]
  },
  {
   "cell_type": "code",
   "execution_count": 13,
   "metadata": {},
   "outputs": [
    {
     "data": {
      "text/plain": [
       "<matplotlib.legend.Legend at 0x111198358>"
      ]
     },
     "execution_count": 13,
     "metadata": {},
     "output_type": "execute_result"
    },
    {
     "data": {
      "image/png": "[encoded data removed]",
      "text/plain": [
       "<matplotlib.figure.Figure at 0x11624d748>"
      ]
     },
     "metadata": {},
     "output_type": "display_data"
    }
   ],
   "source": [
    "matplotlib.rcParams['figure.figsize'] = (12,8)\n",
    "\n",
    "x = np.linspace(0,1.0,1000)\n",
    "plt.title(\"ROC Curve\")\n",
    "plt.xlabel(\"FPR-Specificity\")\n",
    "plt.ylabel(\"TRP-Sensitivity\")\n",
    "plt.plot(fpr, trp, 'b-', label='ROC Curve')\n",
    "plt.plot(x, x, 'r-', label='f(x) = x')\n",
    "plt.legend(loc='lower right')"
   ]
  },
  {
   "cell_type": "markdown",
   "metadata": {},
   "source": [
    "The above plot clearly shows that our ROC curve is above the diagonal (the equivalent of the random classifier) for all values of specificity. Hence, I think the interpretation is that we're making better guesses, True Positives, for any given value of True Negatives. "
   ]
  },
  {
   "cell_type": "markdown",
   "metadata": {},
   "source": [
    "## Question 3\n",
    "\n",
    "Continuing with the market data example: let's improve the calssifier. \n",
    "\n",
    "### Part (a)\n",
    "\n",
    "We doubt the that log odds of the `balance` and `age` variables grow linearly. Fit a Logistic GAM to the data, and we use smoothing splines to model the effect of balance and age. The partial dependence plots are plotted below. "
   ]
  },
  {
   "cell_type": "code",
   "execution_count": 14,
   "metadata": {},
   "outputs": [
    {
     "name": "stderr",
     "output_type": "stream",
     "text": [
      "100% (30 of 30) |#########################| Elapsed Time: 0:01:59 Time: 0:01:59\n"
     ]
    }
   ],
   "source": [
    "%%capture\n",
    "from pygam import LogisticGAM\n",
    "\n",
    "gam = LogisticGAM().gridsearch(X_train,y_train,lam = np.logspace(-1, 5, 30))"
   ]
  },
  {
   "cell_type": "code",
   "execution_count": 15,
   "metadata": {},
   "outputs": [
    {
     "data": {
      "text/plain": [
       "0.41753189365604015"
      ]
     },
     "execution_count": 15,
     "metadata": {},
     "output_type": "execute_result"
    }
   ],
   "source": [
    "gam.lam"
   ]
  },
  {
   "cell_type": "code",
   "execution_count": 16,
   "metadata": {},
   "outputs": [],
   "source": [
    "yhat_gam = gam.predict(X_test)"
   ]
  },
  {
   "cell_type": "code",
   "execution_count": 17,
   "metadata": {},
   "outputs": [
    {
     "data": {
      "image/png": "[encoded data removed]",
      "text/plain": [
       "<matplotlib.figure.Figure at 0x114556240>"
      ]
     },
     "metadata": {},
     "output_type": "display_data"
    }
   ],
   "source": [
    "from pygam.utils import generate_X_grid\n",
    "\n",
    "XX = generate_X_grid(gam)\n",
    "\n",
    "fig, axs = plt.subplots(1, 2)\n",
    "titles = X_test.columns[[0,1]].tolist()\n",
    "\n",
    "for j, ax in enumerate(axs):\n",
    "    \n",
    "    pdep, _ = gam.partial_dependence(XX, feature=j+1, width=0.95)\n",
    "    \n",
    "    ax.plot(XX[:,j], pdep)\n",
    "    ax.set_title(titles[j])\n",
    "\n",
    "plt.show()"
   ]
  },
  {
   "cell_type": "markdown",
   "metadata": {},
   "source": [
    "### Part (b)\n",
    "\n",
    "Evalute the predictions from the logistic GAM in terms of misclassifications, and calculate the proportion of scucesses in the top ranked 1000 teste observations. How does the performance of these metrics compare with the logistic regression case?"
   ]
  },
  {
   "cell_type": "code",
   "execution_count": 16,
   "metadata": {},
   "outputs": [
    {
     "name": "stdout",
     "output_type": "stream",
     "text": [
      "Misclassification for LogisticGAM:  11.7426273458 %\n"
     ]
    }
   ],
   "source": [
    "print(\"Misclassification for LogisticGAM: \", np.mean(y_test != yhat_gam)*100.0, \"%\")"
   ]
  },
  {
   "cell_type": "code",
   "execution_count": 17,
   "metadata": {},
   "outputs": [
    {
     "name": "stdout",
     "output_type": "stream",
     "text": [
      "Percent of clients with highest probability that actually say yes: 34.500000\n"
     ]
    }
   ],
   "source": [
    "X_new_2 = X_test.copy()\n",
    "X_new_2['client_prob'] = gam.predict_proba(X_test)\n",
    "X_new_2['y_test'] = y_test\n",
    "X_new_2 = X_new_2.sort_values(by='client_prob', ascending=False)\n",
    "good_custos_2 = X_new_2.head(1000)\n",
    "print(\"Percent of clients with highest probability that actually say yes: %f\" % (np.mean(good_custos_2.y_test)*100.0))"
   ]
  },
  {
   "cell_type": "markdown",
   "metadata": {},
   "source": [
    "The misclassification rate is roughly the same as the base rate seen previously. However, when we re-selected the 1000 potential clients with the highest probability of saying 'yes', we see that the proportion of these clients that actually say yes is 34.5%. This is an improvement in 8.5% from the logisitic case!"
   ]
  },
  {
   "cell_type": "markdown",
   "metadata": {},
   "source": [
    "### Part (c)\n",
    "\n",
    "Plot the ROC curve plot once again, superimposing the results from the first logistic case, this case, and the diagonal. "
   ]
  },
  {
   "cell_type": "code",
   "execution_count": 18,
   "metadata": {},
   "outputs": [
    {
     "data": {
      "text/plain": [
       "<matplotlib.legend.Legend at 0x11718eb38>"
      ]
     },
     "execution_count": 18,
     "metadata": {},
     "output_type": "execute_result"
    },
    {
     "data": {
      "image/png": "[encoded data removed]",
      "text/plain": [
       "<matplotlib.figure.Figure at 0x11150ec50>"
      ]
     },
     "metadata": {},
     "output_type": "display_data"
    }
   ],
   "source": [
    "fpr_gam, trp_gam, _ = roc_curve(X_new_2.y_test, X_new_2.client_prob)\n",
    "\n",
    "matplotlib.rcParams['figure.figsize'] = (12,8)\n",
    "\n",
    "x = np.linspace(0,1.0,1000)\n",
    "plt.title(\"ROC Curve\")\n",
    "plt.xlabel(\"FPR-Specificity\")\n",
    "plt.ylabel(\"TRP-Sensitivity\")\n",
    "plt.plot(fpr, trp, 'b-', label='Logistic ROC')\n",
    "plt.plot(x, x, 'r-', label='f(x) = x')\n",
    "plt.plot(fpr_gam, trp_gam, 'g-', label='LogGAM ROC')\n",
    "plt.legend(loc='lower right')"
   ]
  },
  {
   "cell_type": "markdown",
   "metadata": {},
   "source": [
    "This is beautiful. The plot above suggests that for any given value of True Negatives, the logistic GAM will provide more True Positives than using the more elementary logistic case. "
   ]
  }
 ],
 "metadata": {
  "kernelspec": {
   "display_name": "Python 3",
   "language": "python",
   "name": "python3"
  },
  "language_info": {
   "codemirror_mode": {
    "name": "ipython",
    "version": 3
   },
   "file_extension": ".py",
   "mimetype": "text/x-python",
   "name": "python",
   "nbconvert_exporter": "python",
   "pygments_lexer": "ipython3",
   "version": "3.6.3"
  }
 },
 "nbformat": 4,
 "nbformat_minor": 2
}
